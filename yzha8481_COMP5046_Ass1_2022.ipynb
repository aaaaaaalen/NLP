{
  "nbformat": 4,
  "nbformat_minor": 0,
  "metadata": {
    "colab": {
      "name": "yzha8481_COMP5046_Ass1_2022.ipynb",
      "provenance": [],
      "collapsed_sections": [],
      "machine_shape": "hm"
    },
    "kernelspec": {
      "name": "python3",
      "display_name": "Python 3"
    }
  },
  "cells": [
    {
      "cell_type": "markdown",
      "metadata": {
        "id": "MGHoy6KpQDfZ"
      },
      "source": [
        "# 2022 COMP5046 Assignment 1\n",
        "*Make sure you change the file name with your unikey.*"
      ]
    },
    {
      "cell_type": "markdown",
      "metadata": {
        "id": "qTf21j_oQIiD"
      },
      "source": [
        "# Readme\n",
        "*If there is something to be noted for the marker, please mention here.* \n",
        "\n",
        "*If you are planning to implement a program with Object Oriented Programming style, please check the bottom of the this ipynb file*"
      ]
    },
    {
      "cell_type": "markdown",
      "metadata": {
        "id": "iXbQohXLKSgO"
      },
      "source": [
        "***Visualising the comparison of different results is a good way to justify your decision.***"
      ]
    },
    {
      "cell_type": "markdown",
      "source": [
        "# 1 - Data Preprocessing"
      ],
      "metadata": {
        "id": "A7v4GVxo4Dom"
      }
    },
    {
      "cell_type": "markdown",
      "source": [
        "## 1.0. Data Collection [DO NOT MODIFY THIS]"
      ],
      "metadata": {
        "id": "HftyG77k47Y3"
      }
    },
    {
      "cell_type": "code",
      "metadata": {
        "id": "U7C4snIcNl22",
        "colab": {
          "base_uri": "https://localhost:8080/"
        },
        "outputId": "48584533-3b48-467e-ff38-b43807817290"
      },
      "source": [
        "# Code to download file into Colaboratory:\n",
        "!pip install -U -q PyDrive\n",
        "from pydrive.auth import GoogleAuth\n",
        "from pydrive.drive import GoogleDrive\n",
        "from google.colab import auth\n",
        "from oauth2client.client import GoogleCredentials\n",
        "# Authenticate and create the PyDrive client.\n",
        "auth.authenticate_user()\n",
        "gauth = GoogleAuth()\n",
        "gauth.credentials = GoogleCredentials.get_application_default()\n",
        "drive = GoogleDrive(gauth)\n",
        "\n",
        "id = '16g474hdNsaNx0_SnoKuqj2BuwSEGdnbt'\n",
        "downloaded = drive.CreateFile({'id':id}) \n",
        "downloaded.GetContentFile('training_data.csv')  \n",
        "\n",
        "id = '1-7hj0sF3Rc5G6POKdkpbDXm_Q6BWFDPU'\n",
        "downloaded = drive.CreateFile({'id':id}) \n",
        "downloaded.GetContentFile('testing_data.csv')  \n",
        "\n",
        "import pandas as pd\n",
        "training_data = pd.read_csv(\"/content/training_data.csv\")\n",
        "testing_data = pd.read_csv(\"/content/testing_data.csv\")\n",
        "\n",
        "print(\"------------------------------------\")\n",
        "print(\"Size of training dataset: {0}\".format(len(training_data)))\n",
        "print(\"Size of testing dataset: {0}\".format(len(testing_data)))\n",
        "print(\"------------------------------------\")\n",
        "\n",
        "print(\"------------------------------------\")\n",
        "print(\"Sample Data\")\n",
        "print(\"LABEL: {0} / SENTENCE: {1}\".format(training_data.iloc[-1,0], training_data.iloc[-1,1]))\n",
        "print(\"------------------------------------\")\n"
      ],
      "execution_count": 1,
      "outputs": [
        {
          "output_type": "stream",
          "name": "stdout",
          "text": [
            "------------------------------------\n",
            "Size of training dataset: 7808\n",
            "Size of testing dataset: 867\n",
            "------------------------------------\n",
            "------------------------------------\n",
            "Sample Data\n",
            "LABEL: F / SENTENCE: 'Half of it is going straight to charity, another quarter going straight to scientific research, an eighth to the parkour community, a sixteenth to towards spreading information about health and...|||Find a path or suffer more.|||http://personalitycafe.com/enneagram-personality-theory-forum/85323-enneagram-type-mbti-type-compared-statistics.html yep.|||I kind of anchor on Fi and Ne makes having Ni really fun. INFP for me as they tire me out less and our views tend to align more.|||The two ESTPs I have gotten the chance to know seem to experience much more than other people who have been on the planet for the same amount of time and are quite the renaissance (wo)men.  Is this...|||I don't really have a best friend ISTP(passion-amateur group co-founder), INTJ(intellectual and various small hobbies talk), ESTP(Bro-in-law, talk about everything kind of like my INTJ friend),...|||Everyone looses their gift if they don't even consider a different perspective.|||Kansas - ISTJ|||That or if they are normally comfortable with me, such as a friend or close acquaintance, they feel the need to start talking. It's almost a trap, I've noticed for most people feel the need to expose...|||To me, your answers screamed introverted feeling. Answers 2-5, 10, 11, 14, 16, and 17 your last statement were particularly Fi-like. I'm guessing you are an intuitive and possibly and introvert...|||Could you explain your reasoning for these? I saw Mako as an F, Lin as an ES, and have Kya as an F. Never had an idea for Amon's type.|||This applies to many of these threads.|||With an INFP for over 2 years now.|||After watching tonight's episode I'm sure that Unalaq is an ENXJ. I'm not sure if it's Fe or Te at this point but the way he goes about doing and planning things seem like a Je-dom. I'm putting him...|||Parkour is my passion(but I consider it closer to a martial art than a sport). I also enjoy some running and climbing.|||I have many characters but I gravitate towards sneaky archer, Breton, and conjuration. I love doing role plays and think it's one of, if not the best way to play the game.|||ESFP seems right for Ikki. We may need Jinora to have more interactions for us to tell. Any guesses about Pema, Tenzin's wife? She said herself that she used to be very shy so I'd put I just from...|||If you don't mind, please tell me more by what you meant by this bolded part or what happened.|||I think it's fit to revive this thread seeing as the second season of Korra has started and the second episode of the season is coming up tomorrow. I'd just say beware of spoilers in new posts if you...|||I was thinking more along these lines: 83385|||Yes, a few times in friendships and other things but it was usually spurred on by the idea of not having a second chance. I've been trying to make the first move more in life as I've realized it just...|||Sorry if my wording was/is confusing or vague. Let me try to explain it better.  As for the first statement: I see the world for all it's interconnections. If you wish, visualized everything having...|||~I don't experience it as simply perceiving or creating, for me as I perceive interconnected relationships are formed and realized.   ~I don't think that I rationalize with my dominate function but...|||I think it's amusing that, in the leading position I share with an ISTP friend of mine, we both start to embrace our shadows. I Think that's been my growing point lately, embracing my shadow. We're...|||I would suggest introspection and relying on your sense of self over tests and I highly suggest looking into the cognitive functions. ISTJ is the complete opposite of INFJ.|||I definitely agree with others on the US- It's pretty good for an INFJ if you find your niche.  I say the Midwest is generally SJ with women expected to be F and men to be T. It's nice but annoying....|||Please explain|||I think my own eye movements have almost been changed because of where I was usually placed when talking to someone in normal conversations. See, when I was young I ended up getting permanent spot in...|||Judgmental, critical, somewhat narcissistic, stubborn, possessive, Fe-ishly manipulative, and I have ego issues. Take that with a grain of salt.|||Yes, very much so. I love Spanish so far.|||I have a huge folder of these types of images.|||Aquarian It was just my guess, it doesn't need that much merit. Personally, I think Se is the hardest function to describe because it is so in the moment.|||Sorry, double post because of connectivity weirdness.|||I don't know if this has been posted before or if a thread about curses would be the best place but it'll do just fine. The important part is post #79, the giant wall of text. I think most of it was...|||If anything, imo, Ni would be how objects are interconnected. If I were to follow closely to your model: Introverted Intuition: Understanding how objects are connected Extraverted Intuition:...|||Sometimes you just don't see them :ninja: Seriously, I thought I was alone in a small town but I was surprised after training for a couple months.  You can easily learn and train by yourself, you...|||82063 Stuff by Andy Day, not only do I like it because it is the stuff of my passion but that new perspective of our surroundings that it brings. This is a great example of that. All those people...|||Sorry for the quality, my relative only gave me a physical copy, it's a picture of a picture. This is my INFP girlfriend of two years and me.|||If I am with my SO I almost need physical contact in some way.|||I pretty much have a guru dream that involves my SP wannabe passion. Around people I am close to I totally put on the gypsy king face, people are just so interesting. Hahaha can't stop laughing at ...|||I agree this this post very much, I just can't shake that vibe. To me it feels like you are an INTP who strongly identifies with INFJs. I think if you want a sound answer form yourself and others we...|||I do pretty well in emergencies, I do very well compared to normal conditions in my opinion. I feel like I become the ideal version of myself, for the most part. It's hard to describe but it's like...|||I have a very close INTJ friend. The Te Fe difference is acknowledged very well and I'd say that both of our tertiary functions are well developed which helps a ton. He does not show it often but he...|||Being alone and/or doing something physical that I can naturally and reactively do without thinking or little thought.|||Pretty much this|||If I wear shoes or socks to bed and my feet are not on my bed I will wake up as if I was falling. 2/3 of the time this happens. Any other dreams that I remember(I don't remember most of my dreams...|||This one still gets me.  What I meant to say was Pass the salt but what I really said was You b****, you ruined my life|||I'm sorry, but I find them so funny because I use them for good reason. They make people uncomfortable at first but then, slowly, make people more comfortable with the idea that people are different...|||XSFJ Mother, ISTJ father, and an XNFJ sister. Yep.|||I love dark jokes, especially racists/stereotypical jokes.'\n",
            "------------------------------------\n"
          ]
        }
      ]
    },
    {
      "cell_type": "code",
      "source": [
        "# Preview of the data in the csv file, which has two columns: \n",
        "# (1)type - label of the post (2)posts - the corresponding post content\n",
        "training_data.head()"
      ],
      "metadata": {
        "id": "WIHEbmSQp3fh",
        "outputId": "22a55873-bba2-4932-8117-2b5732a43608",
        "colab": {
          "base_uri": "https://localhost:8080/",
          "height": 206
        }
      },
      "execution_count": 2,
      "outputs": [
        {
          "output_type": "execute_result",
          "data": {
            "text/plain": [
              "  type                                              posts\n",
              "0    F  'http://www.youtube.com/watch?v=qsXHcwe3krw|||...\n",
              "1    T  'I'm finding the lack of me in these posts ver...\n",
              "2    T  'Good one  _____   https://www.youtube.com/wat...\n",
              "3    T  'Dear INTP,   I enjoyed our conversation the o...\n",
              "4    T  'You're fired.|||That's another silly misconce..."
            ],
            "text/html": [
              "\n",
              "  <div id=\"df-e8ef7e9b-7f1a-439a-8a23-269bb5c203d1\">\n",
              "    <div class=\"colab-df-container\">\n",
              "      <div>\n",
              "<style scoped>\n",
              "    .dataframe tbody tr th:only-of-type {\n",
              "        vertical-align: middle;\n",
              "    }\n",
              "\n",
              "    .dataframe tbody tr th {\n",
              "        vertical-align: top;\n",
              "    }\n",
              "\n",
              "    .dataframe thead th {\n",
              "        text-align: right;\n",
              "    }\n",
              "</style>\n",
              "<table border=\"1\" class=\"dataframe\">\n",
              "  <thead>\n",
              "    <tr style=\"text-align: right;\">\n",
              "      <th></th>\n",
              "      <th>type</th>\n",
              "      <th>posts</th>\n",
              "    </tr>\n",
              "  </thead>\n",
              "  <tbody>\n",
              "    <tr>\n",
              "      <th>0</th>\n",
              "      <td>F</td>\n",
              "      <td>'http://www.youtube.com/watch?v=qsXHcwe3krw|||...</td>\n",
              "    </tr>\n",
              "    <tr>\n",
              "      <th>1</th>\n",
              "      <td>T</td>\n",
              "      <td>'I'm finding the lack of me in these posts ver...</td>\n",
              "    </tr>\n",
              "    <tr>\n",
              "      <th>2</th>\n",
              "      <td>T</td>\n",
              "      <td>'Good one  _____   https://www.youtube.com/wat...</td>\n",
              "    </tr>\n",
              "    <tr>\n",
              "      <th>3</th>\n",
              "      <td>T</td>\n",
              "      <td>'Dear INTP,   I enjoyed our conversation the o...</td>\n",
              "    </tr>\n",
              "    <tr>\n",
              "      <th>4</th>\n",
              "      <td>T</td>\n",
              "      <td>'You're fired.|||That's another silly misconce...</td>\n",
              "    </tr>\n",
              "  </tbody>\n",
              "</table>\n",
              "</div>\n",
              "      <button class=\"colab-df-convert\" onclick=\"convertToInteractive('df-e8ef7e9b-7f1a-439a-8a23-269bb5c203d1')\"\n",
              "              title=\"Convert this dataframe to an interactive table.\"\n",
              "              style=\"display:none;\">\n",
              "        \n",
              "  <svg xmlns=\"http://www.w3.org/2000/svg\" height=\"24px\"viewBox=\"0 0 24 24\"\n",
              "       width=\"24px\">\n",
              "    <path d=\"M0 0h24v24H0V0z\" fill=\"none\"/>\n",
              "    <path d=\"M18.56 5.44l.94 2.06.94-2.06 2.06-.94-2.06-.94-.94-2.06-.94 2.06-2.06.94zm-11 1L8.5 8.5l.94-2.06 2.06-.94-2.06-.94L8.5 2.5l-.94 2.06-2.06.94zm10 10l.94 2.06.94-2.06 2.06-.94-2.06-.94-.94-2.06-.94 2.06-2.06.94z\"/><path d=\"M17.41 7.96l-1.37-1.37c-.4-.4-.92-.59-1.43-.59-.52 0-1.04.2-1.43.59L10.3 9.45l-7.72 7.72c-.78.78-.78 2.05 0 2.83L4 21.41c.39.39.9.59 1.41.59.51 0 1.02-.2 1.41-.59l7.78-7.78 2.81-2.81c.8-.78.8-2.07 0-2.86zM5.41 20L4 18.59l7.72-7.72 1.47 1.35L5.41 20z\"/>\n",
              "  </svg>\n",
              "      </button>\n",
              "      \n",
              "  <style>\n",
              "    .colab-df-container {\n",
              "      display:flex;\n",
              "      flex-wrap:wrap;\n",
              "      gap: 12px;\n",
              "    }\n",
              "\n",
              "    .colab-df-convert {\n",
              "      background-color: #E8F0FE;\n",
              "      border: none;\n",
              "      border-radius: 50%;\n",
              "      cursor: pointer;\n",
              "      display: none;\n",
              "      fill: #1967D2;\n",
              "      height: 32px;\n",
              "      padding: 0 0 0 0;\n",
              "      width: 32px;\n",
              "    }\n",
              "\n",
              "    .colab-df-convert:hover {\n",
              "      background-color: #E2EBFA;\n",
              "      box-shadow: 0px 1px 2px rgba(60, 64, 67, 0.3), 0px 1px 3px 1px rgba(60, 64, 67, 0.15);\n",
              "      fill: #174EA6;\n",
              "    }\n",
              "\n",
              "    [theme=dark] .colab-df-convert {\n",
              "      background-color: #3B4455;\n",
              "      fill: #D2E3FC;\n",
              "    }\n",
              "\n",
              "    [theme=dark] .colab-df-convert:hover {\n",
              "      background-color: #434B5C;\n",
              "      box-shadow: 0px 1px 3px 1px rgba(0, 0, 0, 0.15);\n",
              "      filter: drop-shadow(0px 1px 2px rgba(0, 0, 0, 0.3));\n",
              "      fill: #FFFFFF;\n",
              "    }\n",
              "  </style>\n",
              "\n",
              "      <script>\n",
              "        const buttonEl =\n",
              "          document.querySelector('#df-e8ef7e9b-7f1a-439a-8a23-269bb5c203d1 button.colab-df-convert');\n",
              "        buttonEl.style.display =\n",
              "          google.colab.kernel.accessAllowed ? 'block' : 'none';\n",
              "\n",
              "        async function convertToInteractive(key) {\n",
              "          const element = document.querySelector('#df-e8ef7e9b-7f1a-439a-8a23-269bb5c203d1');\n",
              "          const dataTable =\n",
              "            await google.colab.kernel.invokeFunction('convertToInteractive',\n",
              "                                                     [key], {});\n",
              "          if (!dataTable) return;\n",
              "\n",
              "          const docLinkHtml = 'Like what you see? Visit the ' +\n",
              "            '<a target=\"_blank\" href=https://colab.research.google.com/notebooks/data_table.ipynb>data table notebook</a>'\n",
              "            + ' to learn more about interactive tables.';\n",
              "          element.innerHTML = '';\n",
              "          dataTable['output_type'] = 'display_data';\n",
              "          await google.colab.output.renderOutput(dataTable, element);\n",
              "          const docLink = document.createElement('div');\n",
              "          docLink.innerHTML = docLinkHtml;\n",
              "          element.appendChild(docLink);\n",
              "        }\n",
              "      </script>\n",
              "    </div>\n",
              "  </div>\n",
              "  "
            ]
          },
          "metadata": {},
          "execution_count": 2
        }
      ]
    },
    {
      "cell_type": "code",
      "source": [
        "# Extract the labels and posts and store into List\n",
        "\n",
        "# Get the list of training data (posts)\n",
        "training_posts=training_data['posts'].tolist()\n",
        "# Get the list of corresponding labels for the training data (posts)\n",
        "training_labels=training_data['type'].tolist()\n",
        "\n",
        "# Get the list of testing data (posts)\n",
        "testing_posts=testing_data['posts'].tolist()\n",
        "# Get the list of corresponding labels for the testing data (posts)\n",
        "testing_labels=testing_data['type'].tolist()"
      ],
      "metadata": {
        "id": "0SvGBOm9DvR_"
      },
      "execution_count": 3,
      "outputs": []
    },
    {
      "cell_type": "markdown",
      "metadata": {
        "id": "l9gBSgBCQh24"
      },
      "source": [
        "## 1.1. URL Removal\n",
        "*related to the section 4.2*"
      ]
    },
    {
      "cell_type": "code",
      "metadata": {
        "id": "emyl1lWxGr12"
      },
      "source": [
        "# Please comment your code\n",
        "import re\n",
        "def remove_url(x):\n",
        "    x = re.sub(r'(https?:\\/\\/)?([\\da-z\\.-]+)\\.([a-z\\.]{2,6})([\\/\\w \\.-]*)', '', x)\n",
        "    \n",
        "    return x\n",
        "    \n",
        "training_posts = [remove_url(s) for s in training_posts]\n",
        "testing_posts = [remove_url(s) for s in testing_posts]"
      ],
      "execution_count": 4,
      "outputs": []
    },
    {
      "cell_type": "markdown",
      "source": [
        "## 1.2. Preprocess data (e.g. Stop words, Stemming)\n",
        "*related to the section 4.2*"
      ],
      "metadata": {
        "id": "QzLAO5a25qzS"
      }
    },
    {
      "cell_type": "markdown",
      "source": [
        "\n",
        "\n",
        "---\n",
        "\n"
      ],
      "metadata": {
        "id": "gIzFi5NK68vc"
      }
    },
    {
      "cell_type": "code",
      "metadata": {
        "id": "jl7t5Vqo5_gq",
        "colab": {
          "base_uri": "https://localhost:8080/"
        },
        "outputId": "48574eae-9c70-477e-9192-8b9987926535"
      },
      "source": [
        "import re\n",
        "import nltk\n",
        "import numpy as np\n",
        "#remove punctuation and convert to lower case\n",
        "\n",
        "training_posts_lo = [s.lower() for s in training_posts]\n",
        "testing_posts_lo = [s.lower() for s in testing_posts]\n",
        "\n",
        "def remove_punctuation(x):\n",
        "    x = re.sub(r'[^\\w\\s\\_]','',x)\n",
        "    \n",
        "    return x\n",
        "\n",
        "training_posts_re = [remove_punctuation(s) for s in training_posts_lo]\n",
        "testing_posts_re = [remove_punctuation(s) for s in testing_posts_lo]\n",
        "\n",
        "#tokenization\n",
        "nltk.download('punkt')\n",
        "from nltk.tokenize import word_tokenize\n",
        "\n",
        "training_posts_to = [word_tokenize(s) for s in training_posts_re]\n",
        "testing_posts_to = [word_tokenize(s) for s in testing_posts_re]\n",
        "\n",
        "#print(training_posts[1])\n",
        "\n",
        "#remove stopwords\n",
        "nltk.download('stopwords')\n",
        "from nltk.corpus import stopwords\n",
        "\n",
        "stop_words = set(stopwords.words('english'))\n",
        "#stop_words = nltk.corpus.stopwords.words('english')\n",
        "\n",
        "training_posts_sw=[]\n",
        "for tokens in training_posts_to:\n",
        "    filtered_sentence = [w for w in tokens if not w in stop_words]\n",
        "    training_posts_sw.append(filtered_sentence)\n",
        "\n",
        "testing_posts_sw=[]\n",
        "for tokens in testing_posts_to:\n",
        "    filtered_sentence = [w for w in tokens if not w in stop_words]\n",
        "    testing_posts_sw.append(filtered_sentence)\n",
        "    \n",
        "#print(training_posts_sw[1])\n",
        "\n",
        "#lemmatisation\n",
        "nltk.download('wordnet')\n",
        "nltk.download('omw-1.4')\n",
        "\n",
        "from nltk.stem import WordNetLemmatizer\n",
        "lemmatizer = WordNetLemmatizer()\n",
        "\n",
        "training_posts_le = []\n",
        "for tokens in training_posts_sw:\n",
        "    lemma_sentence = [lemmatizer.lemmatize(w) for w in tokens ]\n",
        "    training_posts_le.append(lemma_sentence)\n",
        "\n",
        "testing_posts_le = []\n",
        "for tokens in testing_posts_sw:\n",
        "    lemma_sentence = [lemmatizer.lemmatize(w) for w in tokens ]\n",
        "    testing_posts_le.append(lemma_sentence)\n",
        "\n",
        "#print(training_posts_le[1])\n"
      ],
      "execution_count": 5,
      "outputs": [
        {
          "output_type": "stream",
          "name": "stdout",
          "text": [
            "[nltk_data] Downloading package punkt to /root/nltk_data...\n",
            "[nltk_data]   Package punkt is already up-to-date!\n",
            "[nltk_data] Downloading package stopwords to /root/nltk_data...\n",
            "[nltk_data]   Package stopwords is already up-to-date!\n",
            "[nltk_data] Downloading package wordnet to /root/nltk_data...\n",
            "[nltk_data]   Package wordnet is already up-to-date!\n",
            "[nltk_data] Downloading package omw-1.4 to /root/nltk_data...\n",
            "[nltk_data]   Package omw-1.4 is already up-to-date!\n"
          ]
        }
      ]
    },
    {
      "cell_type": "markdown",
      "source": [
        "# 2 - Input Representation\n"
      ],
      "metadata": {
        "id": "6sAZNIg5927R"
      }
    },
    {
      "cell_type": "markdown",
      "metadata": {
        "id": "daDvAftceIvr"
      },
      "source": [
        "## 2.1. Word Embedding Construction\n",
        "*related to the section 4.1 and 4.3*\n"
      ]
    },
    {
      "cell_type": "code",
      "metadata": {
        "id": "Jw8I1QBk-EhG"
      },
      "source": [
        "# Please comment your code\n",
        "import re\n",
        "import nltk\n",
        "import numpy as np\n",
        "#remove punctuation and convert to lower case\n",
        "from gensim.models import Word2Vec\n",
        "from gensim.models import FastText\n",
        "\n",
        "#4.1\n",
        "#ft_cbow_model = FastText(sentences = training_posts_to, size=50, window=5, min_count=5, workers=2, sg=1)\n",
        "#ft_cbow_model1 = FastText(sentences = training_posts_to, size=100, window=5, min_count=5, workers=2, sg=1)\n",
        "ft_cbow_model2 = FastText(sentences = training_posts_to, size=150, window=5, min_count=5, workers=2, sg=1)\n",
        "#ft_cbow_model3 = FastText(sentences = training_posts_to, size=175, window=5, min_count=5, workers=2, sg=1)\n",
        "#ft_cbow_model4 = FastText(sentences = training_posts_to, size=100, window=2, min_count=5, workers=2, sg=1)\n",
        "#ft_cbow_model5 = FastText(sentences = training_posts_to, size=100, window=8, min_count=5, workers=2, sg=1)\n",
        "#ft_cbow_model6 = FastText(sentences = training_posts_to, size=100, window=10, min_count=5, workers=2, sg=1)\n",
        "\n",
        "#4.4\n",
        "gensim_model2 = Word2Vec(sentences = training_posts_sw, size=100, window=5, min_count=1, workers=2, sg=1)"
      ],
      "execution_count": 9,
      "outputs": []
    },
    {
      "cell_type": "markdown",
      "metadata": {
        "id": "LNys5HOdISK-"
      },
      "source": [
        "## 2.2. Pretrained Word Embedding\n",
        "*related to the section 4.3*"
      ]
    },
    {
      "cell_type": "code",
      "metadata": {
        "id": "Ae8i7Z2kIef-"
      },
      "source": [
        "# Please comment your code\n",
        "import gensim.downloader as api\n",
        "word_emb_model = api.load(\"glove-twitter-50\")\n",
        "#word_emb_model = api.load(\"glove-twitter-25\")"
      ],
      "execution_count": 10,
      "outputs": []
    },
    {
      "cell_type": "markdown",
      "metadata": {
        "id": "T0ap96aeGlIk"
      },
      "source": [
        "## 2.3. Input Concatenation\n",
        "*related to the section 4.3*"
      ]
    },
    {
      "cell_type": "code",
      "metadata": {
        "id": "i2CUCL1cGlI2",
        "colab": {
          "base_uri": "https://localhost:8080/"
        },
        "outputId": "13cc9307-9c82-40cd-df9e-d80f3393e13c"
      },
      "source": [
        "# Please comment your code\n",
        "# Get the unique training word list (i.e. vocab)\n",
        "from sklearn.preprocessing import LabelEncoder\n",
        "\n",
        "word_set = set() \n",
        "for sent in training_posts_sw:\n",
        "    for word in sent:\n",
        "        word_set.add(word)\n",
        "          \n",
        "\n",
        "word_set.add('[PAD]')\n",
        "word_set.add('[UNKNOWN]')\n",
        "        \n",
        "word_list = list(word_set)\n",
        "word_list.sort()\n",
        "\n",
        "print(word_list[:10])\n",
        "print(len(word_list))\n",
        "\n",
        "word_index = {}\n",
        "ind = 0\n",
        "for word in word_list:\n",
        "    word_index[word] = ind\n",
        "    ind += 1\n",
        "\n",
        "# download another pre-trained word embedding\n",
        "emb_dim = word_emb_model.vector_size+gensim_model2.vector_size\n",
        "print(emb_dim)\n",
        "\n",
        "# add the second pre-trained word embedding to the Embedding lookup table via concatenation\n",
        "emb_table = []\n",
        "for i, word in enumerate(word_list):\n",
        "    if word in word_emb_model:\n",
        "        #emb_table.append(np.concatenate((word_emb_model[word],word_emb_model2[word]),0))\n",
        "        emb_table.append(np.concatenate((word_emb_model[word],gensim_model2.wv[word]),0))\n",
        "    else:\n",
        "        emb_table.append([0]*emb_dim)\n",
        "emb_table = np.array(emb_table)\n",
        "print(np.shape(emb_table))"
      ],
      "execution_count": 11,
      "outputs": [
        {
          "output_type": "stream",
          "name": "stdout",
          "text": [
            "['0', '00', '000', '0000', '000000', '000000000', '00000011', '000000111', '0000001111you', '00001010']\n",
            "238342\n",
            "150\n",
            "(238342, 150)\n"
          ]
        }
      ]
    },
    {
      "cell_type": "markdown",
      "metadata": {
        "id": "LIu_lkJwQ55g"
      },
      "source": [
        "# 3 - Model Implementation"
      ]
    },
    {
      "cell_type": "markdown",
      "metadata": {
        "id": "DpYCL17JKZxl"
      },
      "source": [
        "### 3.1. Build Sequence Model (Bi-directional model)\n",
        "*related to the section 4.4*"
      ]
    },
    {
      "cell_type": "code",
      "metadata": {
        "id": "13eCtR_SLUG6",
        "colab": {
          "base_uri": "https://localhost:8080/"
        },
        "outputId": "4cbb78b4-7dc4-4621-b658-340282ff0f6d"
      },
      "source": [
        "# Please comment your code\n",
        "\n",
        "import torch\n",
        "# You can enable GPU here (cuda); or just CPU\n",
        "device = torch.device(\"cuda\" if torch.cuda.is_available() else \"cpu\")\n",
        "\n",
        "import numpy as np\n",
        "\n",
        "import torch.nn as nn\n",
        "import torch.nn.functional as F\n",
        "import torch.optim as optim\n",
        "from sklearn.metrics import accuracy_score\n",
        "\n",
        "# Convert the training_posts_sw to the word index that aligns with the lookup table\n",
        "len_list = [len(s) for s in training_posts_sw]\n",
        "seq_length = max(len_list)\n",
        "len_list_t = [len(s) for s in testing_posts_sw]\n",
        "seq_length_t = max(len_list_t)\n",
        "\n",
        "\n",
        "# Padding and encoding\n",
        "def encode_and_add_padding(training_posts_sw, seq_length, word_index):\n",
        "    sent_encoded = []\n",
        "    for sent in training_posts_sw:\n",
        "        temp_encoded = [word_index[word] if word in word_index else word_index['[UNKNOWN]'] for word in sent]\n",
        "        if len(temp_encoded) < seq_length:\n",
        "            temp_encoded += [word_index['[PAD]']] * (seq_length - len(temp_encoded))\n",
        "        sent_encoded.append(temp_encoded)\n",
        "    return sent_encoded\n",
        "\n",
        "train_pad_encoded = encode_and_add_padding(training_posts_sw, seq_length, word_index)\n",
        "test_pad_encoded = encode_and_add_padding(testing_posts_le, seq_length_t, word_index)\n",
        "print(np.asarray(train_pad_encoded).shape)\n",
        "\n",
        "#lable encoding\n",
        "from sklearn.preprocessing import LabelEncoder\n",
        "\n",
        "lEnc = LabelEncoder()\n",
        "# Encode the labels \n",
        "label_train_encoded = lEnc.fit_transform(training_labels)\n",
        "label_test_encoded = lEnc.fit_transform(testing_labels)\n",
        "unique_labels = np.unique(label_train_encoded)\n",
        "\n",
        "print(np.asarray(label_train_encoded).shape)\n",
        "\n",
        "#Paramater\n",
        "vocab_size = len(word_list)\n",
        "n_hidden = 100\n",
        "total_epoch = 50\n",
        "learning_rate = 0.01\n",
        "n_class = len(unique_labels)\n",
        "batch_size = 256\n",
        "n_input = np.array(train_pad_encoded).shape[1]\n",
        "# Bi-RNN model\n",
        "class Bi_RNN_Model(nn.Module):\n",
        "    def __init__(self):\n",
        "        super(Bi_RNN_Model, self).__init__()\n",
        "        self.emb = nn.Embedding(vocab_size, emb_dim)\n",
        "        self.emb.weight.data.copy_(torch.from_numpy(emb_table))\n",
        "        self.emb.weight.requires_grad = False\n",
        "        self.rnn = nn.RNN(emb_dim, n_hidden, batch_first =True, bidirectional=True)\n",
        "        self.linear = nn.Linear(2*n_hidden,n_class)\n",
        "\n",
        "    def forward(self, x):\n",
        "        x = self.emb(x) \n",
        "        x, h_n = self.rnn(x)\n",
        "        hidden_out = torch.cat((h_n[0,:,:],h_n[1,:,:]),1)\n",
        "        output = self.linear(hidden_out)\n",
        "        return output\n",
        "    \n",
        "# Bi-LSTM model\n",
        "class Bi_LSTM_Model(nn.Module):\n",
        "    def __init__(self):\n",
        "        super(Bi_LSTM_Model, self).__init__()\n",
        "        self.emb = nn.Embedding(vocab_size, emb_dim)\n",
        "        self.emb.weight.data.copy_(torch.from_numpy(emb_table))\n",
        "        self.emb.weight.requires_grad = False\n",
        "        self.lstm = nn.LSTM(emb_dim, n_hidden, batch_first = True, bidirectional=True)\n",
        "        self.linear = nn.Linear(n_hidden*2,n_class)\n",
        "\n",
        "    def forward(self, x):\n",
        "        x = self.emb(x)        \n",
        "        lstm_out, (h_n, c_n) = self.lstm(x)\n",
        "        # concat the last hidden state from two direction\n",
        "        hidden_out = torch.cat((h_n[0,:,:],h_n[1,:,:]),1)\n",
        "        z = self.linear(hidden_out)\n",
        "        return z\n",
        "\n",
        "RNN_model = Bi_RNN_Model().to(device)\n",
        "criterion = nn.CrossEntropyLoss()\n",
        "optimizer_R = optim.Adam(RNN_model.parameters(), lr=learning_rate)\n",
        "\n",
        "LSTM_model = Bi_LSTM_Model().to(device)\n",
        "optimizer_L = optim.Adam(LSTM_model.parameters(), lr=learning_rate)\n"
      ],
      "execution_count": 12,
      "outputs": [
        {
          "output_type": "stream",
          "name": "stdout",
          "text": [
            "(7808, 937)\n",
            "(7808,)\n"
          ]
        }
      ]
    },
    {
      "cell_type": "markdown",
      "metadata": {
        "id": "6BaOiaGRLW7R"
      },
      "source": [
        "### 3.2. Train Sequence Model (Bi-directional model)\n",
        "\n",
        "*related to the section 4.4*\n",
        "\n",
        "Note that it will not be marked if you do not display the Training Loss and the Number of Epochs in the Assignment 1 ipynb.\n"
      ]
    },
    {
      "cell_type": "code",
      "source": [
        "# Please comment your code\n",
        " #RNN  \n",
        "print(\"_____RNN_____\")\n",
        "for epoch in range(total_epoch):\n",
        "    for ind in range(0,np.array(train_pad_encoded).shape[1],batch_size):\n",
        "        input_batch = np.array(train_pad_encoded)[ind:min(ind+batch_size, np.array(train_pad_encoded).shape[1])]\n",
        "        target_batch = np.array(label_train_encoded)[ind:min(ind+batch_size, np.array(train_pad_encoded).shape[1])]\n",
        "        input_batch_torch = torch.from_numpy(input_batch).to(device)\n",
        "        target_batch_torch = torch.from_numpy(target_batch).view(-1).to(device)\n",
        "\n",
        "\n",
        "\n",
        "        RNN_model.train()\n",
        "\n",
        "        optimizer_R.zero_grad()\n",
        "        outputs = RNN_model(input_batch_torch)\n",
        "        #target_batch_torch = target_batch_torch.to(torch.int64)\n",
        "        loss = criterion(outputs, target_batch_torch)\n",
        "        loss.backward()\n",
        "        optimizer_R.step()\n",
        "\n",
        "    predicted = torch.argmax(outputs, -1)\n",
        "    acc= accuracy_score(predicted.cpu().numpy(),target_batch_torch.cpu().numpy())\n",
        "\n",
        "    print('Epoch: %d, loss: %.5f, train_acc: %.2f' %(epoch + 1, loss.item(), acc))\n",
        "\n",
        "print('Finished Training RNN')\n",
        "\n",
        "torch.save(LSTM_model,'Ass1RNN.pt')\n",
        "\n",
        "# Please comment your code\n",
        "from sklearn.metrics import accuracy_score\n",
        "#LSTM\n",
        "print(\"_____LSTM_____\")\n",
        "for epoch in range(total_epoch):\n",
        "    for ind in range(0,np.array(train_pad_encoded).shape[1],batch_size):\n",
        "        input_batch = np.array(train_pad_encoded)[ind:min(ind+batch_size, np.array(train_pad_encoded).shape[1])]\n",
        "        target_batch = np.array(label_train_encoded)[ind:min(ind+batch_size, np.array(train_pad_encoded).shape[1])]\n",
        "        input_batch_torch = torch.from_numpy(input_batch).to(device)\n",
        "        target_batch_torch = torch.from_numpy(target_batch).view(-1).to(device)\n",
        "\n",
        "\n",
        "\n",
        "        LSTM_model.train()\n",
        "\n",
        "        optimizer_L.zero_grad()\n",
        "        outputs = LSTM_model(input_batch_torch)\n",
        "        #target_batch_torch = target_batch_torch.to(torch.int64)\n",
        "        loss = criterion(outputs, target_batch_torch)\n",
        "        loss.backward()\n",
        "        optimizer_L.step()\n",
        "\n",
        "    predicted = torch.argmax(outputs, -1)\n",
        "    acc= accuracy_score(predicted.cpu().numpy(),target_batch_torch.cpu().numpy())\n",
        "\n",
        "    print('Epoch: %d, loss: %.5f, train_acc: %.2f' %(epoch + 1, loss.item(), acc))\n",
        "\n",
        "print('Finished Training lstm')\n",
        "\n",
        "torch.save(LSTM_model,'Ass1LSTM.pt')"
      ],
      "metadata": {
        "colab": {
          "base_uri": "https://localhost:8080/"
        },
        "id": "2CMcA6Klw7j1",
        "outputId": "f4733c25-3875-45f5-fdcf-90f05012a898"
      },
      "execution_count": 13,
      "outputs": [
        {
          "output_type": "stream",
          "name": "stdout",
          "text": [
            "_____RNN_____\n",
            "Epoch: 1, loss: 0.76625, train_acc: 0.48\n",
            "Epoch: 2, loss: 0.72449, train_acc: 0.50\n",
            "Epoch: 3, loss: 0.68891, train_acc: 0.51\n",
            "Epoch: 4, loss: 0.70846, train_acc: 0.53\n",
            "Epoch: 5, loss: 0.67052, train_acc: 0.60\n",
            "Epoch: 6, loss: 0.69097, train_acc: 0.54\n",
            "Epoch: 7, loss: 0.72298, train_acc: 0.50\n",
            "Epoch: 8, loss: 0.69049, train_acc: 0.55\n",
            "Epoch: 9, loss: 0.68357, train_acc: 0.57\n",
            "Epoch: 10, loss: 0.69040, train_acc: 0.53\n",
            "Epoch: 11, loss: 0.69969, train_acc: 0.57\n",
            "Epoch: 12, loss: 0.74408, train_acc: 0.47\n",
            "Epoch: 13, loss: 0.68274, train_acc: 0.56\n",
            "Epoch: 14, loss: 0.70015, train_acc: 0.54\n",
            "Epoch: 15, loss: 0.73360, train_acc: 0.50\n",
            "Epoch: 16, loss: 0.73693, train_acc: 0.49\n",
            "Epoch: 17, loss: 0.71238, train_acc: 0.53\n",
            "Epoch: 18, loss: 0.76946, train_acc: 0.49\n",
            "Epoch: 19, loss: 0.72065, train_acc: 0.47\n",
            "Epoch: 20, loss: 0.76060, train_acc: 0.50\n",
            "Epoch: 21, loss: 0.68339, train_acc: 0.53\n",
            "Epoch: 22, loss: 0.73882, train_acc: 0.49\n",
            "Epoch: 23, loss: 0.67398, train_acc: 0.56\n",
            "Epoch: 24, loss: 0.75764, train_acc: 0.48\n",
            "Epoch: 25, loss: 0.67194, train_acc: 0.59\n",
            "Epoch: 26, loss: 0.69429, train_acc: 0.57\n",
            "Epoch: 27, loss: 0.68815, train_acc: 0.50\n",
            "Epoch: 28, loss: 0.67861, train_acc: 0.56\n",
            "Epoch: 29, loss: 0.68911, train_acc: 0.50\n",
            "Epoch: 30, loss: 0.67608, train_acc: 0.59\n",
            "Epoch: 31, loss: 0.67294, train_acc: 0.59\n",
            "Epoch: 32, loss: 0.67881, train_acc: 0.56\n",
            "Epoch: 33, loss: 0.66269, train_acc: 0.59\n",
            "Epoch: 34, loss: 0.65815, train_acc: 0.59\n",
            "Epoch: 35, loss: 0.65476, train_acc: 0.62\n",
            "Epoch: 36, loss: 0.64140, train_acc: 0.63\n",
            "Epoch: 37, loss: 0.63337, train_acc: 0.66\n",
            "Epoch: 38, loss: 0.63254, train_acc: 0.64\n",
            "Epoch: 39, loss: 0.61911, train_acc: 0.65\n",
            "Epoch: 40, loss: 0.61348, train_acc: 0.67\n",
            "Epoch: 41, loss: 0.60337, train_acc: 0.66\n",
            "Epoch: 42, loss: 0.59522, train_acc: 0.69\n",
            "Epoch: 43, loss: 0.57875, train_acc: 0.70\n",
            "Epoch: 44, loss: 0.56727, train_acc: 0.69\n",
            "Epoch: 45, loss: 0.55276, train_acc: 0.74\n",
            "Epoch: 46, loss: 0.53762, train_acc: 0.76\n",
            "Epoch: 47, loss: 0.52726, train_acc: 0.79\n",
            "Epoch: 48, loss: 0.51007, train_acc: 0.79\n",
            "Epoch: 49, loss: 0.50016, train_acc: 0.80\n",
            "Epoch: 50, loss: 0.48875, train_acc: 0.81\n",
            "Finished Training RNN\n",
            "_____LSTM_____\n",
            "Epoch: 1, loss: 0.69493, train_acc: 0.49\n",
            "Epoch: 2, loss: 0.69642, train_acc: 0.50\n",
            "Epoch: 3, loss: 0.69425, train_acc: 0.50\n",
            "Epoch: 4, loss: 0.67854, train_acc: 0.55\n",
            "Epoch: 5, loss: 0.65910, train_acc: 0.59\n",
            "Epoch: 6, loss: 0.62053, train_acc: 0.66\n",
            "Epoch: 7, loss: 0.58330, train_acc: 0.70\n",
            "Epoch: 8, loss: 0.57788, train_acc: 0.70\n",
            "Epoch: 9, loss: 0.50832, train_acc: 0.78\n",
            "Epoch: 10, loss: 0.44504, train_acc: 0.82\n",
            "Epoch: 11, loss: 0.40350, train_acc: 0.82\n",
            "Epoch: 12, loss: 0.42247, train_acc: 0.77\n",
            "Epoch: 13, loss: 0.27948, train_acc: 0.95\n",
            "Epoch: 14, loss: 0.20714, train_acc: 0.93\n",
            "Epoch: 15, loss: 0.11212, train_acc: 1.00\n",
            "Epoch: 16, loss: 0.08098, train_acc: 0.99\n",
            "Epoch: 17, loss: 0.04663, train_acc: 0.98\n",
            "Epoch: 18, loss: 0.01660, train_acc: 1.00\n",
            "Epoch: 19, loss: 0.01227, train_acc: 1.00\n",
            "Epoch: 20, loss: 0.01094, train_acc: 1.00\n",
            "Epoch: 21, loss: 0.00665, train_acc: 1.00\n",
            "Epoch: 22, loss: 0.00462, train_acc: 1.00\n",
            "Epoch: 23, loss: 0.00335, train_acc: 1.00\n",
            "Epoch: 24, loss: 0.00207, train_acc: 1.00\n",
            "Epoch: 25, loss: 0.00141, train_acc: 1.00\n",
            "Epoch: 26, loss: 0.00113, train_acc: 1.00\n",
            "Epoch: 27, loss: 0.00082, train_acc: 1.00\n",
            "Epoch: 28, loss: 0.00064, train_acc: 1.00\n",
            "Epoch: 29, loss: 0.00054, train_acc: 1.00\n",
            "Epoch: 30, loss: 0.00047, train_acc: 1.00\n",
            "Epoch: 31, loss: 0.00042, train_acc: 1.00\n",
            "Epoch: 32, loss: 0.00038, train_acc: 1.00\n",
            "Epoch: 33, loss: 0.00035, train_acc: 1.00\n",
            "Epoch: 34, loss: 0.00032, train_acc: 1.00\n",
            "Epoch: 35, loss: 0.00029, train_acc: 1.00\n",
            "Epoch: 36, loss: 0.00027, train_acc: 1.00\n",
            "Epoch: 37, loss: 0.00026, train_acc: 1.00\n",
            "Epoch: 38, loss: 0.00024, train_acc: 1.00\n",
            "Epoch: 39, loss: 0.00023, train_acc: 1.00\n",
            "Epoch: 40, loss: 0.00022, train_acc: 1.00\n",
            "Epoch: 41, loss: 0.00021, train_acc: 1.00\n",
            "Epoch: 42, loss: 0.00020, train_acc: 1.00\n",
            "Epoch: 43, loss: 0.00019, train_acc: 1.00\n",
            "Epoch: 44, loss: 0.00018, train_acc: 1.00\n",
            "Epoch: 45, loss: 0.00017, train_acc: 1.00\n",
            "Epoch: 46, loss: 0.00016, train_acc: 1.00\n",
            "Epoch: 47, loss: 0.00016, train_acc: 1.00\n",
            "Epoch: 48, loss: 0.00015, train_acc: 1.00\n",
            "Epoch: 49, loss: 0.00015, train_acc: 1.00\n",
            "Epoch: 50, loss: 0.00014, train_acc: 1.00\n",
            "Finished Training lstm\n"
          ]
        }
      ]
    },
    {
      "cell_type": "markdown",
      "metadata": {
        "id": "a4mpRpocePLN"
      },
      "source": [
        "# 4 - Evaluation\n"
      ]
    },
    {
      "cell_type": "markdown",
      "metadata": {
        "id": "lbLBzHObsvvM"
      },
      "source": [
        "## 4.1. Word Embedding Evaluation\n",
        "You are to apply Semantic-Syntactic word relationship tests for the trained word embeddings and visualise the result of Semantic-Syntactic word relationship tests.\n",
        "Note that it will not be marked if you do not display it in the ipynb file.\n"
      ]
    },
    {
      "cell_type": "markdown",
      "metadata": {
        "id": "MSIUsb7qtQEf"
      },
      "source": [
        "(*Please show your empirical evidence and justification*)\n",
        "\n",
        "I select it since it has better performance in rare words problems. According to the result I generate, The skip-gram model with a high word vector gives better syntactic accuracy, and the semantic accuracy remains stable. We keep the vector dimension at 100, and increase the windows size, the semantic accuracy slight growth, and syntactic accuracy drops a bit. This is because the windows size and vector size relate to the context of the words. Bigger windows and vector size would give the model more features as input to train the model.\n"
      ]
    },
    {
      "cell_type": "code",
      "metadata": {
        "id": "tCrcXwcGsuuo",
        "colab": {
          "base_uri": "https://localhost:8080/",
          "height": 1000
        },
        "outputId": "4c0f0fc4-2637-4b49-ee06-d501bfa918e8"
      },
      "source": [
        "#Word analogy evaluation for section 4.1\n",
        "import numpy as np\n",
        "import re\n",
        "# For parsing our XML data\n",
        "from lxml import etree \n",
        "\n",
        "# For data processing\n",
        "import nltk\n",
        "nltk.download('punkt')\n",
        "from nltk.tokenize import word_tokenize, sent_tokenize\n",
        "\n",
        "# For implementing the word2vec family of algorithms\n",
        "from gensim.models import Word2Vec\n",
        "id = '1B47OiEiG2Lo1jUY6hy_zMmHBxfKQuJ8-'\n",
        "downloaded = drive.CreateFile({'id':id}) \n",
        "downloaded.GetContentFile('ted_en-20160408.xml') \n",
        "\n",
        "\n",
        "targetXML=open('ted_en-20160408.xml', 'r', encoding='UTF8')\n",
        "\n",
        "# Getting contents of <content> tag from the xml file\n",
        "target_text = etree.parse(targetXML)\n",
        "parse_text = '\\n'.join(target_text.xpath('//content/text()'))\n",
        "\n",
        "# Removing \"Sound-effect labels\" using regular expression (regex) (i.e. (Audio), (Laughter))\n",
        "content_text = re.sub(r'\\([^)]*\\)', '', parse_text)\n",
        "\n",
        "# Tokenising the sentence to process it by using NLTK library\n",
        "sent_text=sent_tokenize(content_text)\n",
        "\n",
        "# Removing punctuation and changing all characters to lower case\n",
        "normalized_text = []\n",
        "for string in sent_text:\n",
        "     tokens = re.sub(r\"[^a-z0-9]+\", \" \", string.lower())\n",
        "     normalized_text.append(tokens)\n",
        "\n",
        "# Tokenising each sentence to process individual word\n",
        "sentences=[]\n",
        "sentences=[word_tokenize(sentence) for sentence in normalized_text]\n",
        "\n",
        "# Prints only 10 (tokenised) sentences\n",
        "print(sentences[:10])\n",
        "\n",
        "ft_cbow_model2.wv.save_word2vec_format('ted_ft_cbow_w2v.txt', binary=False)\n",
        "\n",
        "!git clone https://github.com/stanfordnlp/GloVe.git\n",
        "\n",
        "vectors_file=\"/content/ted_ft_cbow_w2v.txt\"\n",
        "\n",
        "with open(vectors_file, 'r') as f:\n",
        "  vectors = {}\n",
        "  for line in f.readlines()[1:]: # we only need the embedding vectors starting from the second line \n",
        "    vals = line.rstrip().split(' ')\n",
        "    vectors[vals[0]] = [float(x) for x in vals[1:]]\n",
        "\n",
        "vocab_words=list(vectors.keys())\n",
        "vocab_size = len(vocab_words)\n",
        "print(\"Vocab size: \",str(vocab_size))\n",
        "\n",
        "# create word->index and index->word converter\n",
        "vocab = {w: idx for idx, w in enumerate(vocab_words)}\n",
        "ivocab = {idx: w for idx, w in enumerate(vocab_words)}\n",
        "\n",
        "# create the embedding matrix of shape (vocab_size, dim)\n",
        "vector_dim = len(vectors[ivocab[0]])\n",
        "W = np.zeros((vocab_size, vector_dim))\n",
        "for word, v in vectors.items():\n",
        "    if word == '<unk>':\n",
        "        continue\n",
        "    W[vocab[word], :] = v\n",
        "\n",
        "# normalize each word vector to unit length\n",
        "# Vectors are usually normalized to unit length before they are used for similarity calculation, making cosine similarity and dot-product equivalent.\n",
        "W_norm = np.zeros(W.shape)\n",
        "d = (np.sum(W ** 2, 1) ** (0.5))\n",
        "W_norm = (W.T / d).T\n",
        "\n",
        "def evaluate_vectors(W, vocab, prefix='./eval/question-data/'):\n",
        "    \"\"\"Evaluate the trained word vectors on a variety of tasks\"\"\"\n",
        "\n",
        "    filenames = [\n",
        "        'capital-common-countries.txt', 'capital-world.txt', 'currency.txt',\n",
        "        'city-in-state.txt', 'family.txt', 'gram1-adjective-to-adverb.txt',\n",
        "        'gram2-opposite.txt', 'gram3-comparative.txt', 'gram4-superlative.txt',\n",
        "        'gram5-present-participle.txt', 'gram6-nationality-adjective.txt',\n",
        "        'gram7-past-tense.txt', 'gram8-plural.txt', 'gram9-plural-verbs.txt',\n",
        "        ]\n",
        "\n",
        "    # to avoid memory overflow, could be increased/decreased\n",
        "    # depending on system and vocab size\n",
        "    split_size = 100\n",
        "\n",
        "    correct_sem = 0; # count correct semantic questions\n",
        "    correct_syn = 0; # count correct syntactic questions\n",
        "    correct_tot = 0 # count correct questions\n",
        "    count_sem = 0; # count all semantic questions\n",
        "    count_syn = 0; # count all syntactic questions\n",
        "    count_tot = 0 # count all questions\n",
        "    full_count = 0 # count all questions, including those with unknown words\n",
        "\n",
        "    for i in range(len(filenames)):\n",
        "        with open('%s/%s' % (prefix, filenames[i]), 'r') as f:\n",
        "            full_data = [line.rstrip().split(' ') for line in f]\n",
        "            full_count += len(full_data)\n",
        "            data = [x for x in full_data if all(word in vocab for word in x)]\n",
        "\n",
        "        if len(data) == 0:\n",
        "            print(\"ERROR: no lines of vocab kept for %s !\" % filenames[i])\n",
        "            print(\"Example missing line:\", full_data[0])\n",
        "            continue\n",
        "\n",
        "        indices = np.array([[vocab[word] for word in row] for row in data])\n",
        "        ind1, ind2, ind3, ind4 = indices.T\n",
        "\n",
        "        predictions = np.zeros((len(indices),))\n",
        "        num_iter = int(np.ceil(len(indices) / float(split_size)))\n",
        "        for j in range(num_iter):\n",
        "            subset = np.arange(j*split_size, min((j + 1)*split_size, len(ind1)))\n",
        "\n",
        "            pred_vec = (W[ind2[subset], :] - W[ind1[subset], :]\n",
        "                +  W[ind3[subset], :])\n",
        "\n",
        "            #cosine similarity if input W has been normalized\n",
        "            dist = np.dot(W, pred_vec.T)\n",
        "\n",
        "\n",
        "            for k in range(len(subset)):\n",
        "                dist[ind1[subset[k]], k] = -np.Inf\n",
        "                dist[ind2[subset[k]], k] = -np.Inf\n",
        "                dist[ind3[subset[k]], k] = -np.Inf\n",
        "\n",
        "            # predicted word index\n",
        "            predictions[subset] = np.argmax(dist, 0).flatten()\n",
        "\n",
        "        \n",
        "        val = (ind4 == predictions) # correct predictions\n",
        "        count_tot = count_tot + len(ind1)\n",
        "        correct_tot = correct_tot + sum(val)\n",
        "        if i < 5:\n",
        "            count_sem = count_sem + len(ind1)\n",
        "            correct_sem = correct_sem + sum(val)\n",
        "        else:\n",
        "            count_syn = count_syn + len(ind1)\n",
        "            correct_syn = correct_syn + sum(val)\n",
        "\n",
        "        print(\"%s:\" % filenames[i])\n",
        "        print('ACCURACY TOP1: %.2f%% (%d/%d)' %\n",
        "            (np.mean(val) * 100, np.sum(val), len(val)))\n",
        "        \n",
        "    return correct_sem, correct_syn, correct_tot, count_sem, count_syn, count_tot, full_count\n",
        "\n",
        "correct_sem, correct_syn, correct_tot, count_sem, count_syn, count_tot, full_count = evaluate_vectors(W_norm, vocab, prefix='/content/GloVe/eval/question-data')\n",
        "print('Questions seen/total: %.2f%% (%d/%d)' %\n",
        "    (100 * count_tot / float(full_count), count_tot, full_count))\n",
        "print('Semantic accuracy: %.2f%%  (%i/%i)' %\n",
        "    (100 * correct_sem / float(count_sem), correct_sem, count_sem))\n",
        "print('Syntactic accuracy: %.2f%%  (%i/%i)' %\n",
        "    (100 * correct_syn / float(count_syn), correct_syn, count_syn))\n",
        "print('Total accuracy: %.2f%%  (%i/%i)' % (100 * correct_tot / float(count_tot), correct_tot, count_tot))\n",
        "\n",
        "import matplotlib.pyplot as plt\n",
        "\n",
        "fig, ax =plt.subplots(1,1,figsize=(12,8))\n",
        "data=[[\"FastText_cbow\", \"50\",\"5\",\"9.93%\",\"45.42%\",\"43.3%\"],\n",
        "      [\"FastText_cbow\", \"100\",\"5\",\"20.5%\",\"47.46%\",\"54.36%\"],\n",
        "      [\"FastText_cbow\", \"150\",\"5\",\"16.48%\",\"59.12%\",\"55.56%\"],\n",
        "      [\"FastText_cbow\", \"175\",\"5\",\"16.11%\",\"58.26%\",\"54.74%\"],\n",
        "      [\"FastText_cbow\", \"100\",\"2\",\"13.41%\",\"60.09%\",\"56.2%\"],\n",
        "      [\"FastText_cbow\", \"100\",\"8\",\"18.82%\",\"54.80%\",\"51.8%\"],\n",
        "      [\"FastText_cbow\", \"100\",\"10\",\"20.54%\",\"51.78%\",\"49.17%\"],]\n",
        "column_labels=[\"Model\", \"dim\", \"windows_size\", \"Semantic acc\", \"Syntactic acc\", \"Total acc\" ]\n",
        "ax.axis('tight')\n",
        "ax.axis('off')\n",
        "ax.table(cellText=data,colLabels=column_labels,loc=\"center\")\n",
        "\n",
        "plt.show()\n",
        "\n",
        "# vector size is 100\n",
        "x = [2,5,8,10]\n",
        "y1 = [16.29,21.99,22.78,22.52]\n",
        "y2 = [61.16,57.57,56.17,52.98]\n",
        "y3 = [57.67,54.72,53.55,50.51]\n",
        "\n",
        "plt.ylabel('Accuracy')\n",
        "plt.xlabel('Windows size')\n",
        "plt.plot(x, y1, label = \"Semantic\")\n",
        "plt.plot(x, y2, label = \"Syntactic\")\n",
        "plt.plot(x, y3, label = \"Total\")\n",
        "plt.legend()\n",
        "plt.show()\n",
        "\n",
        "# windows size is 5\n",
        "x = [50,100,150,175]\n",
        "y1 = [21.59,21.99,19.6,18.15]\n",
        "y2 = [47.37,57.57,60.12,60.08]\n",
        "y3 = [45.35,54.72,56.94,56.8]\n",
        "\n",
        "plt.ylabel('Accuracy')\n",
        "plt.xlabel('vector size')\n",
        "plt.plot(x, y1, label = \"Semantic\")\n",
        "plt.plot(x, y2, label = \"Syntactic\")\n",
        "plt.plot(x, y3, label = \"Total\")\n",
        "plt.legend()\n",
        "plt.show()"
      ],
      "execution_count": 14,
      "outputs": [
        {
          "output_type": "stream",
          "name": "stdout",
          "text": [
            "[nltk_data] Downloading package punkt to /root/nltk_data...\n",
            "[nltk_data]   Package punkt is already up-to-date!\n",
            "[['here', 'are', 'two', 'reasons', 'companies', 'fail', 'they', 'only', 'do', 'more', 'of', 'the', 'same', 'or', 'they', 'only', 'do', 'what', 's', 'new'], ['to', 'me', 'the', 'real', 'real', 'solution', 'to', 'quality', 'growth', 'is', 'figuring', 'out', 'the', 'balance', 'between', 'two', 'activities', 'exploration', 'and', 'exploitation'], ['both', 'are', 'necessary', 'but', 'it', 'can', 'be', 'too', 'much', 'of', 'a', 'good', 'thing'], ['consider', 'facit'], ['i', 'm', 'actually', 'old', 'enough', 'to', 'remember', 'them'], ['facit', 'was', 'a', 'fantastic', 'company'], ['they', 'were', 'born', 'deep', 'in', 'the', 'swedish', 'forest', 'and', 'they', 'made', 'the', 'best', 'mechanical', 'calculators', 'in', 'the', 'world'], ['everybody', 'used', 'them'], ['and', 'what', 'did', 'facit', 'do', 'when', 'the', 'electronic', 'calculator', 'came', 'along'], ['they', 'continued', 'doing', 'exactly', 'the', 'same']]\n",
            "fatal: destination path 'GloVe' already exists and is not an empty directory.\n",
            "Vocab size:  31065\n",
            "capital-common-countries.txt:\n",
            "ACCURACY TOP1: 4.17% (3/72)\n",
            "capital-world.txt:\n",
            "ACCURACY TOP1: 0.00% (0/65)\n",
            "currency.txt:\n",
            "ACCURACY TOP1: 0.00% (0/28)\n",
            "city-in-state.txt:\n",
            "ACCURACY TOP1: 2.02% (5/248)\n",
            "family.txt:\n",
            "ACCURACY TOP1: 42.69% (146/342)\n",
            "gram1-adjective-to-adverb.txt:\n",
            "ACCURACY TOP1: 53.12% (494/930)\n",
            "gram2-opposite.txt:\n",
            "ACCURACY TOP1: 63.33% (380/600)\n",
            "gram3-comparative.txt:\n",
            "ACCURACY TOP1: 65.84% (877/1332)\n",
            "gram4-superlative.txt:\n",
            "ACCURACY TOP1: 81.51% (758/930)\n",
            "gram5-present-participle.txt:\n",
            "ACCURACY TOP1: 76.31% (757/992)\n",
            "gram6-nationality-adjective.txt:\n",
            "ACCURACY TOP1: 48.35% (410/848)\n",
            "gram7-past-tense.txt:\n",
            "ACCURACY TOP1: 28.34% (420/1482)\n",
            "gram8-plural.txt:\n",
            "ACCURACY TOP1: 67.23% (710/1056)\n",
            "gram9-plural-verbs.txt:\n",
            "ACCURACY TOP1: 69.52% (488/702)\n",
            "Questions seen/total: 49.26% (9627/19544)\n",
            "Semantic accuracy: 20.40%  (154/755)\n",
            "Syntactic accuracy: 59.67%  (5294/8872)\n",
            "Total accuracy: 56.59%  (5448/9627)\n"
          ]
        },
        {
          "output_type": "display_data",
          "data": {
            "text/plain": [
              "<Figure size 864x576 with 1 Axes>"
            ],
            "image/png": "[encoded data removed]"
          },
          "metadata": {
            "needs_background": "light"
          }
        },
        {
          "output_type": "display_data",
          "data": {
            "text/plain": [
              "<Figure size 432x288 with 1 Axes>"
            ],
            "image/png": "[encoded data removed]"
          },
          "metadata": {
            "needs_background": "light"
          }
        },
        {
          "output_type": "display_data",
          "data": {
            "text/plain": [
              "<Figure size 432x288 with 1 Axes>"
            ],
            "image/png": "[encoded data removed]"
          },
          "metadata": {
            "needs_background": "light"
          }
        }
      ]
    },
    {
      "cell_type": "markdown",
      "metadata": {
        "id": "KEW1zMgVMREr"
      },
      "source": [
        "## 4.2. Performance Evaluation with Data Processing Techiques\n",
        "\n",
        "\n",
        "You are required to evaluate with the testing dataset and provide the table with f1 of test set.\n",
        "Note that it will not be marked if you do not display it in the ipynb file.\n"
      ]
    },
    {
      "cell_type": "markdown",
      "metadata": {
        "id": "oVCF0bwTtRS0"
      },
      "source": [
        "(*Please show your empirical evidence and justification*)\n",
        "In order to find best proformance with different data processing techiques. I choose four different combinations, with URL, without URL, with lemmatize and without lemmatize. The test with URL and without lemmatize gives the best f1 score. This is because removing url reduces the distraction value. In contrast, lemmatization would reduce inflections or variant forms to the base form. Which would reduce the word list and lead to OOD problems.\n"
      ]
    },
    {
      "cell_type": "code",
      "metadata": {
        "id": "LPHCb-bneTI9",
        "colab": {
          "base_uri": "https://localhost:8080/",
          "height": 466
        },
        "outputId": "3640762f-7114-4a88-bfa3-b5fa55e6f6d2"
      },
      "source": [
        "# Please comment your code\n",
        "import matplotlib.pyplot as plt\n",
        "\n",
        "fig, ax =plt.subplots(1,1,figsize=(12,8))\n",
        "data=[[\"Bi-LSTM With URL\", \"0.5486\"],\n",
        "      [\"Bi-LSTM Without URL\", \"0.5464\"],\n",
        "      [\"Bi-LSTM With lemmatize\", \"0.5486\"],\n",
        "     [\"Bi-LSTM Without lemmatize\", \"0.5544\"]]\n",
        "column_labels=[\"Model\", \"F1\"]\n",
        "ax.axis('tight')\n",
        "ax.axis('off')\n",
        "ax.table(cellText=data,colLabels=column_labels,loc=\"center\")\n",
        "\n",
        "plt.show()"
      ],
      "execution_count": 15,
      "outputs": [
        {
          "output_type": "display_data",
          "data": {
            "text/plain": [
              "<Figure size 864x576 with 1 Axes>"
            ],
            "image/png": "[encoded data removed]"
          },
          "metadata": {
            "needs_background": "light"
          }
        }
      ]
    },
    {
      "cell_type": "markdown",
      "metadata": {
        "id": "-gwVpllNoOiY"
      },
      "source": [
        "## 4.3. Performance Evaluation with Different Input\n",
        "\n",
        "\n",
        "You are required to evaluate with the testing dataset and provide the table with f1 of test set.\n",
        "Note that it will not be marked if you do not display it in the ipynb file.\n"
      ]
    },
    {
      "cell_type": "markdown",
      "metadata": {
        "id": "mWS3oonaoOiY"
      },
      "source": [
        "(*Please show your empirical evidence and justification*)\n",
        "In order to measure the perfomance and different input. We use Word2Vec(skip-gram model) with 100 vector size and 5 windows size. And compare the result in bi-lstm model between 6 different input combinations. The combination with pre-trained twitter 50 and  Word2Vec(skip-gram model) gives the best performance. Because this combination would give the highest input feature dimension."
      ]
    },
    {
      "cell_type": "code",
      "metadata": {
        "id": "FTqc1XdioOiZ",
        "colab": {
          "base_uri": "https://localhost:8080/",
          "height": 466
        },
        "outputId": "2f956ffa-8a4e-4f9f-de8c-2149656ba1c9"
      },
      "source": [
        "# Please comment your code\n",
        "import matplotlib.pyplot as plt\n",
        "\n",
        "fig, ax =plt.subplots(1,1,figsize=(12,8))\n",
        "data=[[\"Bi-LSTM With Word2Vec(sg)\", \"0.5256\"],\n",
        "      [\"Bi-LSTM With FastText(sg)\", \"0.5255\"],\n",
        "      [\"Bi-LSTM With glove-twitter-50\", \"0.5400\"],\n",
        "      [\"Bi-LSTM With glove-twitter-25\", \"0.5311\"],\n",
        "      [\"Bi-LSTM With Word2Vec(sg) + gglove-twitter-50\", \"0.5486\"],\n",
        "     [\"Bi-LSTM Without  Word2Vec(sg) + glove-twitter-25\", \"0.5387\"]]\n",
        "column_labels=[\"Model\", \"F1\"]\n",
        "ax.axis('tight')\n",
        "ax.axis('off')\n",
        "ax.table(cellText=data,colLabels=column_labels,loc=\"center\")\n",
        "\n",
        "plt.show()"
      ],
      "execution_count": 16,
      "outputs": [
        {
          "output_type": "display_data",
          "data": {
            "text/plain": [
              "<Figure size 864x576 with 1 Axes>"
            ],
            "image/png": "[encoded data removed]"
          },
          "metadata": {
            "needs_background": "light"
          }
        }
      ]
    },
    {
      "cell_type": "markdown",
      "metadata": {
        "id": "vg08uf3hpyoF"
      },
      "source": [
        "## 4.4. Performance Evaluation with Different Sequence Models\n",
        "\n",
        "\n",
        "You are required to evaluate with the testing dataset and provide the table with f1 of test set.\n",
        "Note that it will not be marked if you do not display it in the ipynb file.\n"
      ]
    },
    {
      "cell_type": "markdown",
      "metadata": {
        "id": "1e_nVbdrpyoK"
      },
      "source": [
        "(*Please show your empirical evidence and justification*)\n",
        "We compare the performance of bi_rnn and bi_lstm. Bi_ltsm has a better F1 score than bi_rnn. Compared to rnn, LSTM added a memory cell that can maintain information in memory for long periods of time. A set of gates controls the input and output of information and when it's forgotten. This architecture lets the model learn longer-term dependencies from the dataset. "
      ]
    },
    {
      "cell_type": "code",
      "source": [
        "# Output for 4.2 (without URL) 4.3 and 4.4 Word2Vec(sg) + glove-twitter-50, vector size = 100, windows = 5\n",
        "# Prediction RNN\n",
        "print(\"____RNN____\")\n",
        "RNN_model.eval()\n",
        "outputs = RNN_model(torch.from_numpy(np.array(test_pad_encoded)).to(device)) \n",
        "predicted = torch.argmax(outputs, 1)\n",
        "from sklearn.metrics import classification_report\n",
        "print(classification_report(label_test_encoded, predicted.cpu().numpy(),digits=4))\n",
        "# Prediction lstm\n",
        "print(\"____LSTM____\")\n",
        "LSTM_model.eval()\n",
        "outputs = LSTM_model(torch.from_numpy(np.array(test_pad_encoded)).to(device)) \n",
        "predicted = torch.argmax(outputs, 1)\n",
        "from sklearn.metrics import classification_report\n",
        "print(classification_report(label_test_encoded,predicted.cpu().numpy(),digits=4))\n",
        "\n",
        "#grath\n",
        "import matplotlib.pyplot as plt\n",
        "\n",
        "fig, ax =plt.subplots(1,1,figsize=(12,8))\n",
        "data=[[\"Bi-rnn\", \"0.5126\"],\n",
        "     [\"Bi-LSTM\", \"0.5531\"]]\n",
        "column_labels=[\"Model\", \"F1\"]\n",
        "ax.axis('tight')\n",
        "ax.axis('off')\n",
        "ax.table(cellText=data,colLabels=column_labels,loc=\"center\")\n",
        "\n",
        "plt.show()"
      ],
      "metadata": {
        "colab": {
          "base_uri": "https://localhost:8080/",
          "height": 813
        },
        "id": "iI7SNQS80o49",
        "outputId": "fcc41875-5403-4a37-959e-c2a3142ea136"
      },
      "execution_count": 17,
      "outputs": [
        {
          "output_type": "stream",
          "name": "stdout",
          "text": [
            "____RNN____\n",
            "              precision    recall  f1-score   support\n",
            "\n",
            "           0     0.5427    0.8030    0.6477       467\n",
            "           1     0.4773    0.2100    0.2917       400\n",
            "\n",
            "    accuracy                         0.5294       867\n",
            "   macro avg     0.5100    0.5065    0.4697       867\n",
            "weighted avg     0.5125    0.5294    0.4834       867\n",
            "\n",
            "____LSTM____\n",
            "              precision    recall  f1-score   support\n",
            "\n",
            "           0     0.5666    0.5739    0.5702       467\n",
            "           1     0.4949    0.4875    0.4912       400\n",
            "\n",
            "    accuracy                         0.5340       867\n",
            "   macro avg     0.5308    0.5307    0.5307       867\n",
            "weighted avg     0.5335    0.5340    0.5338       867\n",
            "\n"
          ]
        },
        {
          "output_type": "display_data",
          "data": {
            "text/plain": [
              "<Figure size 864x576 with 1 Axes>"
            ],
            "image/png": "[encoded data removed]"
          },
          "metadata": {
            "needs_background": "light"
          }
        }
      ]
    },
    {
      "cell_type": "markdown",
      "metadata": {
        "id": "P28Z1k36MZuo"
      },
      "source": [
        "## 4.5. HyperParameter Testing\n",
        "*You are required to draw a graph(y-axis: f1, x-axis: epoch) for test set and explain the optimal number of epochs based on the learning rate you have already chosen.* Note that it will not be marked if you do not display it in the ipynb file.\n"
      ]
    },
    {
      "cell_type": "markdown",
      "metadata": {
        "id": "BYzrA_s2tTaz"
      },
      "source": [
        "(*Please show your empirical evidence and justification*)\n",
        "In this section, I select learning rates between 0.01, 0.005 and 0.001, and run in different epochs. Generally, bigger epochs would converge to a more stable model exemplified by lower variance. However, it's not shown in our result. There is no significant difference between bigger and small epochs when the epoch is bigger than 20. Speak to the learning rate. Smaller learning rates require more training epochs given the smaller changes made to the weights each update, whereas larger learning rates result in rapid changes and require fewer training epochs. Our study shows that when the epoch is lower than 20, The lower learning rate will affect the result.\n"
      ]
    },
    {
      "cell_type": "code",
      "metadata": {
        "id": "wTLyQEeZMZ2f",
        "colab": {
          "base_uri": "https://localhost:8080/",
          "height": 279
        },
        "outputId": "5eb491f1-ef9d-4da3-b623-9bdaab197b8d"
      },
      "source": [
        "# Please comment your code\n",
        "# Please comment your code\n",
        "import matplotlib.pyplot as plt\n",
        "x = [5,10,20,50,80,100]\n",
        "y1 = [51.45,51.59,54.89,55.35,54.15,54.22]\n",
        "y2 = [53.26,53.86,54.86,52.96,53.40,54.37]\n",
        "y3 = [43.76,50.91,53.18,53.07,53.93, 53.60]\n",
        "plt.ylabel('F1')\n",
        "plt.xlabel('Epoch')\n",
        "plt.plot(x, y1, label = \"learning rate = 0.01\")\n",
        "plt.plot(x, y2, label = \"learning rate = 0.005\")\n",
        "plt.plot(x, y3, label = \"learning rate = 0.001\")\n",
        "plt.legend()\n",
        "plt.show()"
      ],
      "execution_count": 35,
      "outputs": [
        {
          "output_type": "display_data",
          "data": {
            "text/plain": [
              "<Figure size 432x288 with 1 Axes>"
            ],
            "image/png": "[encoded data removed]"
          },
          "metadata": {
            "needs_background": "light"
          }
        }
      ]
    },
    {
      "cell_type": "markdown",
      "source": [
        "#5 - Test your model via Colab Form Fields User Interface"
      ],
      "metadata": {
        "id": "dIfa2nm85H9I"
      }
    },
    {
      "cell_type": "markdown",
      "source": [
        "You are required to design a user interface so that user can input a textual sentence via the colab form fields user interface to get the personality type classification result from your trained model. *You can just modify based on the following Colab Form Fields template*"
      ],
      "metadata": {
        "id": "qrCqpwHD5RG1"
      }
    },
    {
      "cell_type": "code",
      "source": [
        "#@markdown ---\n",
        "text = 'I think logic'  #@param {type: \"string\"}\n",
        "\n",
        "#@markdown ---\n",
        "import pandas as pd\n",
        "import torch\n",
        "device = torch.device(\"cuda\" if torch.cuda.is_available() else \"cpu\")\n",
        "import numpy as np\n",
        "import torch.nn as nn\n",
        "import torch.nn.functional as F\n",
        "import torch.optim as optim\n",
        "from sklearn.preprocessing import LabelEncoder\n",
        "import re\n",
        "import nltk\n",
        "nltk.download('punkt')\n",
        "from nltk.tokenize import word_tokenize\n",
        "nltk.download('stopwords')\n",
        "from nltk.corpus import stopwords\n",
        "from gensim.models import Word2Vec\n",
        "import gensim.downloader as api\n",
        "from sklearn.preprocessing import LabelEncoder\n",
        "from sklearn.metrics import accuracy_score\n",
        "# Code to download file into Colaboratory:\n",
        "!pip install -U -q PyDrive\n",
        "from pydrive.auth import GoogleAuth\n",
        "from pydrive.drive import GoogleDrive\n",
        "from google.colab import auth\n",
        "from oauth2client.client import GoogleCredentials\n",
        "# Authenticate and create the PyDrive client.\n",
        "auth.authenticate_user()\n",
        "gauth = GoogleAuth()\n",
        "gauth.credentials = GoogleCredentials.get_application_default()\n",
        "drive = GoogleDrive(gauth)\n",
        "\n",
        "id = '16g474hdNsaNx0_SnoKuqj2BuwSEGdnbt'\n",
        "downloaded = drive.CreateFile({'id':id}) \n",
        "downloaded.GetContentFile('training_data.csv')  \n",
        "\n",
        "id = '1-7hj0sF3Rc5G6POKdkpbDXm_Q6BWFDPU'\n",
        "downloaded = drive.CreateFile({'id':id}) \n",
        "downloaded.GetContentFile('testing_data.csv')  \n",
        "\n",
        "import pandas as pd\n",
        "training_data = pd.read_csv(\"/content/training_data.csv\")\n",
        "testing_data = pd.read_csv(\"/content/testing_data.csv\")\n",
        "\n",
        "print(\"------------------------------------\")\n",
        "print(\"Size of training dataset: {0}\".format(len(training_data)))\n",
        "print(\"Size of testing dataset: {0}\".format(len(testing_data)))\n",
        "print(\"------------------------------------\")\n",
        "\n",
        "print(\"------------------------------------\")\n",
        "print(\"Sample Data\")\n",
        "print(\"LABEL: {0} / SENTENCE: {1}\".format(training_data.iloc[-1,0], training_data.iloc[-1,1]))\n",
        "print(\"------------------------------------\")\n",
        "\n",
        "# Extract the labels and posts and store into List\n",
        "\n",
        "# Get the list of training data (posts)\n",
        "training_posts=training_data['posts'].tolist()\n",
        "# Get the list of corresponding labels for the training data (posts)\n",
        "training_labels=training_data['type'].tolist()\n",
        "\n",
        "# Get the list of testing data (posts)\n",
        "testing_posts=testing_data['posts'].tolist()\n",
        "# Get the list of corresponding labels for the testing data (posts)\n",
        "testing_labels=testing_data['type'].tolist()\n",
        "#remove URL\n",
        "def remove_url(x):\n",
        "    x = re.sub(r'(https?:\\/\\/)?([\\da-z\\.-]+)\\.([a-z\\.]{2,6})([\\/\\w \\.-]*)', '', x)\n",
        "    \n",
        "    return x\n",
        "training_posts = [remove_url(s) for s in training_posts]\n",
        "testing_posts = [remove_url(s) for s in testing_posts]\n",
        "\n",
        "#remove punctuation and convert to lower case\n",
        "\n",
        "training_posts_lo = [s.lower() for s in training_posts]\n",
        "testing_posts_lo = [s.lower() for s in testing_posts]\n",
        "\n",
        "def remove_punctuation(x):\n",
        "    x = re.sub(r'[^\\w\\s\\_]','',x)\n",
        "    \n",
        "    return x\n",
        "\n",
        "training_posts_re = [remove_punctuation(s) for s in training_posts_lo]\n",
        "testing_posts_re = [remove_punctuation(s) for s in testing_posts_lo]\n",
        "\n",
        "#tokenization\n",
        "\n",
        "training_posts_to = [word_tokenize(s) for s in training_posts_re]\n",
        "testing_posts_to = [word_tokenize(s) for s in testing_posts_re]\n",
        "\n",
        "#remove stopwords\n",
        "\n",
        "stop_words = set(stopwords.words('english'))\n",
        "#stop_words = nltk.corpus.stopwords.words('english')\n",
        "\n",
        "training_posts_sw=[]\n",
        "for tokens in training_posts_to:\n",
        "    filtered_sentence = [w for w in tokens if not w in stop_words]\n",
        "    training_posts_sw.append(filtered_sentence)\n",
        "\n",
        "testing_posts_sw=[]\n",
        "for tokens in testing_posts_to:\n",
        "    filtered_sentence = [w for w in tokens if not w in stop_words]\n",
        "    testing_posts_sw.append(filtered_sentence)\n",
        "\n",
        "#GET worf3vec(sg)\n",
        "gensim_model2 = Word2Vec(sentences = training_posts_sw, size=100, window=5, min_count=1, workers=2, sg=1)\n",
        "\n",
        "word_emb_model = api.load(\"glove-twitter-50\")\n",
        "\n",
        "#build word list\n",
        "word_set = set() \n",
        "for sent in training_posts_sw:\n",
        "    for word in sent:\n",
        "        word_set.add(word)\n",
        "          \n",
        "word_set.add('[PAD]')\n",
        "word_set.add('[UNKNOWN]')\n",
        "        \n",
        "word_list = list(word_set)\n",
        "word_list.sort()\n",
        "\n",
        "#build word index\n",
        "word_index = {}\n",
        "ind = 0\n",
        "for word in word_list:\n",
        "    word_index[word] = ind\n",
        "    ind += 1\n",
        "\n",
        "emb_dim = word_emb_model.vector_size+gensim_model2.vector_size\n",
        "# add the second pre-trained word embedding to the Embedding lookup table via concatenation\n",
        "emb_table = []\n",
        "for i, word in enumerate(word_list):\n",
        "    if word in word_emb_model:\n",
        "        emb_table.append(np.concatenate((word_emb_model[word],gensim_model2.wv[word]),0))\n",
        "    else:\n",
        "        emb_table.append([0]*emb_dim)\n",
        "emb_table = np.array(emb_table)\n",
        "\n",
        "\n",
        "# Convert the training_posts_le to the word index that aligns with the lookup table\n",
        "len_list = [len(s) for s in training_posts_sw]\n",
        "seq_length = max(len_list)\n",
        "len_list_t = [len(s) for s in testing_posts_sw]\n",
        "seq_length_t = max(len_list_t)\n",
        "\n",
        "\n",
        "# Padding and encoding\n",
        "#train and text encoding\n",
        "def encode_and_add_padding(training_posts_sw, seq_length, word_index):\n",
        "    sent_encoded = []\n",
        "    for sent in training_posts_sw:\n",
        "        temp_encoded = [word_index[word] if word in word_index else word_index['[UNKNOWN]'] for word in sent]\n",
        "        if len(temp_encoded) < seq_length:\n",
        "            temp_encoded += [word_index['[PAD]']] * (seq_length - len(temp_encoded))\n",
        "        sent_encoded.append(temp_encoded)\n",
        "    return sent_encoded\n",
        "\n",
        "train_pad_encoded = encode_and_add_padding(training_posts_sw, seq_length, word_index)\n",
        "test_pad_encoded = encode_and_add_padding(testing_posts_sw, seq_length_t, word_index)\n",
        "\n",
        "\n",
        "#lable encoding\n",
        "lEnc = LabelEncoder()\n",
        "# Encode the labels \n",
        "label_train_encoded = lEnc.fit_transform(training_labels)\n",
        "label_test_encoded = lEnc.fit_transform(testing_labels)\n",
        "unique_labels = np.unique(label_train_encoded)\n",
        "\n",
        "#Paramater\n",
        "vocab_size = len(word_list)\n",
        "n_hidden = 100\n",
        "total_epoch = 50\n",
        "learning_rate = 0.01\n",
        "n_class = len(unique_labels)\n",
        "batch_size = 256\n",
        "n_input = np.array(train_pad_encoded).shape[1]\n",
        "    \n",
        "# Bi-LSTM model\n",
        "class Bi_LSTM_Model(nn.Module):\n",
        "    def __init__(self):\n",
        "        super(Bi_LSTM_Model, self).__init__()\n",
        "        self.emb = nn.Embedding(vocab_size, emb_dim)\n",
        "        self.emb.weight.data.copy_(torch.from_numpy(emb_table))\n",
        "        self.emb.weight.requires_grad = False\n",
        "        self.lstm = nn.LSTM(emb_dim, n_hidden, batch_first = True, bidirectional=True)\n",
        "        self.linear = nn.Linear(n_hidden*2,n_class)\n",
        "\n",
        "    def forward(self, x):\n",
        "        x = self.emb(x)        \n",
        "        lstm_out, (h_n, c_n) = self.lstm(x)\n",
        "        # concat the last hidden state from two direction\n",
        "        hidden_out = torch.cat((h_n[0,:,:],h_n[1,:,:]),1)\n",
        "        z = self.linear(hidden_out)\n",
        "        return z\n",
        "\n",
        "criterion = nn.CrossEntropyLoss()\n",
        "LSTM_model = Bi_LSTM_Model().to(device)\n",
        "optimizer_L = optim.Adam(LSTM_model.parameters(), lr=learning_rate)\n",
        "\n",
        "#LSTM\n",
        "print(\"_____LSTM_____\")\n",
        "for epoch in range(total_epoch):\n",
        "    for ind in range(0,np.array(train_pad_encoded).shape[1],batch_size):\n",
        "        input_batch = np.array(train_pad_encoded)[ind:min(ind+batch_size, np.array(train_pad_encoded).shape[1])]\n",
        "        target_batch = np.array(label_train_encoded)[ind:min(ind+batch_size, np.array(train_pad_encoded).shape[1])]\n",
        "        input_batch_torch = torch.from_numpy(input_batch).to(device)\n",
        "        target_batch_torch = torch.from_numpy(target_batch).view(-1).to(device)\n",
        "        \n",
        "        LSTM_model.train()\n",
        "\n",
        "        optimizer_L.zero_grad()\n",
        "        outputs = LSTM_model(input_batch_torch)\n",
        "        #target_batch_torch = target_batch_torch.to(torch.int64)\n",
        "        loss = criterion(outputs, target_batch_torch)\n",
        "        loss.backward()\n",
        "        optimizer_L.step()\n",
        "\n",
        "    predicted = torch.argmax(outputs, -1)\n",
        "    acc= accuracy_score(predicted.cpu().numpy(),target_batch_torch.cpu().numpy())\n",
        "\n",
        "    print('Epoch: %d, loss: %.5f, train_acc: %.2f' %(epoch + 1, loss.item(), acc))\n",
        "\n",
        "print('Finished Training lstm')\n",
        "\n",
        "torch.save(LSTM_model,'Ass1LSTM_S5.pt')\n",
        "\n",
        "def data_processing(x):\n",
        "    x = re.sub(r'[^\\w\\s\\_]','',x.lower())\n",
        "    \n",
        "    return x\n",
        "\n",
        "text_re = data_processing(text)\n",
        "text_to = word_tokenize(text_re)\n",
        "\n",
        "text_sw=[]\n",
        "for tokens in text_to:\n",
        "    if not tokens in stop_words:\n",
        "        text_sw.append(tokens)\n",
        "\n",
        "def encode_and_add_padding_interface(text_sw, seq_length, word_index):\n",
        "    sent_encoded = set()\n",
        "    temp_encoded = [word_index[word] if word in word_index else word_index['[UNKNOWN]'] for word in text_sw]\n",
        "    if len(temp_encoded) < seq_length:\n",
        "        temp_encoded += [word_index['[PAD]']] * (seq_length - len(temp_encoded))\n",
        "    sent_encoded.add(tuple(temp_encoded))   \n",
        "    sent_encoded = list(sent_encoded)\n",
        "    return sent_encoded\n",
        "\n",
        "text_pad_encoded = encode_and_add_padding_interface(text_sw, seq_length, word_index)\n",
        "\n",
        "try:\n",
        "    model = torch.load('Ass1LSTM_S5.pt')\n",
        "    model.eval()\n",
        "    outputs = model(torch.from_numpy(np.array(text_pad_encoded)).to(device)) \n",
        "    predicted = torch.argmax(outputs, 1).cpu().numpy()\n",
        "    if predicted == [0]:\n",
        "      print(\"The predicted personality type is: T\")\n",
        "    if predicted == [1]:\n",
        "      print(\"The predicted personality type is: F\")\n",
        "except:\n",
        "    print(\"Unfortunately, the word you entered is not in our dictionary. Please try another one and good luck!\")"
      ],
      "metadata": {
        "id": "HO_aV5bz5-ry",
        "colab": {
          "base_uri": "https://localhost:8080/"
        },
        "outputId": "e53834e4-92ea-46a8-92b9-e59083886e9d"
      },
      "execution_count": 36,
      "outputs": [
        {
          "output_type": "stream",
          "name": "stdout",
          "text": [
            "[nltk_data] Downloading package punkt to /root/nltk_data...\n",
            "[nltk_data]   Package punkt is already up-to-date!\n",
            "[nltk_data] Downloading package stopwords to /root/nltk_data...\n",
            "[nltk_data]   Package stopwords is already up-to-date!\n",
            "------------------------------------\n",
            "Size of training dataset: 7808\n",
            "Size of testing dataset: 867\n",
            "------------------------------------\n",
            "------------------------------------\n",
            "Sample Data\n",
            "LABEL: F / SENTENCE: 'Half of it is going straight to charity, another quarter going straight to scientific research, an eighth to the parkour community, a sixteenth to towards spreading information about health and...|||Find a path or suffer more.|||http://personalitycafe.com/enneagram-personality-theory-forum/85323-enneagram-type-mbti-type-compared-statistics.html yep.|||I kind of anchor on Fi and Ne makes having Ni really fun. INFP for me as they tire me out less and our views tend to align more.|||The two ESTPs I have gotten the chance to know seem to experience much more than other people who have been on the planet for the same amount of time and are quite the renaissance (wo)men.  Is this...|||I don't really have a best friend ISTP(passion-amateur group co-founder), INTJ(intellectual and various small hobbies talk), ESTP(Bro-in-law, talk about everything kind of like my INTJ friend),...|||Everyone looses their gift if they don't even consider a different perspective.|||Kansas - ISTJ|||That or if they are normally comfortable with me, such as a friend or close acquaintance, they feel the need to start talking. It's almost a trap, I've noticed for most people feel the need to expose...|||To me, your answers screamed introverted feeling. Answers 2-5, 10, 11, 14, 16, and 17 your last statement were particularly Fi-like. I'm guessing you are an intuitive and possibly and introvert...|||Could you explain your reasoning for these? I saw Mako as an F, Lin as an ES, and have Kya as an F. Never had an idea for Amon's type.|||This applies to many of these threads.|||With an INFP for over 2 years now.|||After watching tonight's episode I'm sure that Unalaq is an ENXJ. I'm not sure if it's Fe or Te at this point but the way he goes about doing and planning things seem like a Je-dom. I'm putting him...|||Parkour is my passion(but I consider it closer to a martial art than a sport). I also enjoy some running and climbing.|||I have many characters but I gravitate towards sneaky archer, Breton, and conjuration. I love doing role plays and think it's one of, if not the best way to play the game.|||ESFP seems right for Ikki. We may need Jinora to have more interactions for us to tell. Any guesses about Pema, Tenzin's wife? She said herself that she used to be very shy so I'd put I just from...|||If you don't mind, please tell me more by what you meant by this bolded part or what happened.|||I think it's fit to revive this thread seeing as the second season of Korra has started and the second episode of the season is coming up tomorrow. I'd just say beware of spoilers in new posts if you...|||I was thinking more along these lines: 83385|||Yes, a few times in friendships and other things but it was usually spurred on by the idea of not having a second chance. I've been trying to make the first move more in life as I've realized it just...|||Sorry if my wording was/is confusing or vague. Let me try to explain it better.  As for the first statement: I see the world for all it's interconnections. If you wish, visualized everything having...|||~I don't experience it as simply perceiving or creating, for me as I perceive interconnected relationships are formed and realized.   ~I don't think that I rationalize with my dominate function but...|||I think it's amusing that, in the leading position I share with an ISTP friend of mine, we both start to embrace our shadows. I Think that's been my growing point lately, embracing my shadow. We're...|||I would suggest introspection and relying on your sense of self over tests and I highly suggest looking into the cognitive functions. ISTJ is the complete opposite of INFJ.|||I definitely agree with others on the US- It's pretty good for an INFJ if you find your niche.  I say the Midwest is generally SJ with women expected to be F and men to be T. It's nice but annoying....|||Please explain|||I think my own eye movements have almost been changed because of where I was usually placed when talking to someone in normal conversations. See, when I was young I ended up getting permanent spot in...|||Judgmental, critical, somewhat narcissistic, stubborn, possessive, Fe-ishly manipulative, and I have ego issues. Take that with a grain of salt.|||Yes, very much so. I love Spanish so far.|||I have a huge folder of these types of images.|||Aquarian It was just my guess, it doesn't need that much merit. Personally, I think Se is the hardest function to describe because it is so in the moment.|||Sorry, double post because of connectivity weirdness.|||I don't know if this has been posted before or if a thread about curses would be the best place but it'll do just fine. The important part is post #79, the giant wall of text. I think most of it was...|||If anything, imo, Ni would be how objects are interconnected. If I were to follow closely to your model: Introverted Intuition: Understanding how objects are connected Extraverted Intuition:...|||Sometimes you just don't see them :ninja: Seriously, I thought I was alone in a small town but I was surprised after training for a couple months.  You can easily learn and train by yourself, you...|||82063 Stuff by Andy Day, not only do I like it because it is the stuff of my passion but that new perspective of our surroundings that it brings. This is a great example of that. All those people...|||Sorry for the quality, my relative only gave me a physical copy, it's a picture of a picture. This is my INFP girlfriend of two years and me.|||If I am with my SO I almost need physical contact in some way.|||I pretty much have a guru dream that involves my SP wannabe passion. Around people I am close to I totally put on the gypsy king face, people are just so interesting. Hahaha can't stop laughing at ...|||I agree this this post very much, I just can't shake that vibe. To me it feels like you are an INTP who strongly identifies with INFJs. I think if you want a sound answer form yourself and others we...|||I do pretty well in emergencies, I do very well compared to normal conditions in my opinion. I feel like I become the ideal version of myself, for the most part. It's hard to describe but it's like...|||I have a very close INTJ friend. The Te Fe difference is acknowledged very well and I'd say that both of our tertiary functions are well developed which helps a ton. He does not show it often but he...|||Being alone and/or doing something physical that I can naturally and reactively do without thinking or little thought.|||Pretty much this|||If I wear shoes or socks to bed and my feet are not on my bed I will wake up as if I was falling. 2/3 of the time this happens. Any other dreams that I remember(I don't remember most of my dreams...|||This one still gets me.  What I meant to say was Pass the salt but what I really said was You b****, you ruined my life|||I'm sorry, but I find them so funny because I use them for good reason. They make people uncomfortable at first but then, slowly, make people more comfortable with the idea that people are different...|||XSFJ Mother, ISTJ father, and an XNFJ sister. Yep.|||I love dark jokes, especially racists/stereotypical jokes.'\n",
            "------------------------------------\n",
            "_____LSTM_____\n",
            "Epoch: 1, loss: 0.69399, train_acc: 0.49\n",
            "Epoch: 2, loss: 0.69060, train_acc: 0.50\n",
            "Epoch: 3, loss: 0.69717, train_acc: 0.50\n",
            "Epoch: 4, loss: 0.68303, train_acc: 0.53\n",
            "Epoch: 5, loss: 0.66371, train_acc: 0.57\n",
            "Epoch: 6, loss: 0.62776, train_acc: 0.63\n",
            "Epoch: 7, loss: 0.58447, train_acc: 0.66\n",
            "Epoch: 8, loss: 0.55497, train_acc: 0.73\n",
            "Epoch: 9, loss: 0.46269, train_acc: 0.78\n",
            "Epoch: 10, loss: 0.36728, train_acc: 0.88\n",
            "Epoch: 11, loss: 0.26403, train_acc: 0.91\n",
            "Epoch: 12, loss: 0.20278, train_acc: 0.95\n",
            "Epoch: 13, loss: 0.17423, train_acc: 0.93\n",
            "Epoch: 14, loss: 0.08616, train_acc: 0.98\n",
            "Epoch: 15, loss: 0.05883, train_acc: 0.99\n",
            "Epoch: 16, loss: 0.02183, train_acc: 1.00\n",
            "Epoch: 17, loss: 0.01316, train_acc: 1.00\n",
            "Epoch: 18, loss: 0.00587, train_acc: 1.00\n",
            "Epoch: 19, loss: 0.00514, train_acc: 1.00\n",
            "Epoch: 20, loss: 0.00288, train_acc: 1.00\n",
            "Epoch: 21, loss: 0.00196, train_acc: 1.00\n",
            "Epoch: 22, loss: 0.00151, train_acc: 1.00\n",
            "Epoch: 23, loss: 0.00083, train_acc: 1.00\n",
            "Epoch: 24, loss: 0.00057, train_acc: 1.00\n",
            "Epoch: 25, loss: 0.00047, train_acc: 1.00\n",
            "Epoch: 26, loss: 0.00039, train_acc: 1.00\n",
            "Epoch: 27, loss: 0.00033, train_acc: 1.00\n",
            "Epoch: 28, loss: 0.00030, train_acc: 1.00\n",
            "Epoch: 29, loss: 0.00027, train_acc: 1.00\n",
            "Epoch: 30, loss: 0.00025, train_acc: 1.00\n",
            "Epoch: 31, loss: 0.00023, train_acc: 1.00\n",
            "Epoch: 32, loss: 0.00021, train_acc: 1.00\n",
            "Epoch: 33, loss: 0.00019, train_acc: 1.00\n",
            "Epoch: 34, loss: 0.00018, train_acc: 1.00\n",
            "Epoch: 35, loss: 0.00017, train_acc: 1.00\n",
            "Epoch: 36, loss: 0.00065, train_acc: 1.00\n",
            "Epoch: 37, loss: 0.00374, train_acc: 1.00\n",
            "Epoch: 38, loss: 0.04181, train_acc: 0.99\n",
            "Epoch: 39, loss: 0.03666, train_acc: 0.99\n",
            "Epoch: 40, loss: 0.03181, train_acc: 0.98\n",
            "Epoch: 41, loss: 0.05000, train_acc: 0.98\n",
            "Epoch: 42, loss: 0.01629, train_acc: 0.99\n",
            "Epoch: 43, loss: 0.00562, train_acc: 1.00\n",
            "Epoch: 44, loss: 0.00384, train_acc: 1.00\n",
            "Epoch: 45, loss: 0.00266, train_acc: 1.00\n",
            "Epoch: 46, loss: 0.00171, train_acc: 1.00\n",
            "Epoch: 47, loss: 0.00100, train_acc: 1.00\n",
            "Epoch: 48, loss: 0.00077, train_acc: 1.00\n",
            "Epoch: 49, loss: 0.00062, train_acc: 1.00\n",
            "Epoch: 50, loss: 0.00050, train_acc: 1.00\n",
            "Finished Training lstm\n",
            "The predicted personality type is: F\n"
          ]
        }
      ]
    },
    {
      "cell_type": "markdown",
      "metadata": {
        "id": "sfv8rWTKPzeb"
      },
      "source": [
        "# Object Oriented Programming codes here"
      ]
    },
    {
      "cell_type": "markdown",
      "metadata": {
        "id": "TS23AjBRSZaX"
      },
      "source": [
        "*You can use multiple code snippets. Just add more if needed* "
      ]
    }
  ]
}